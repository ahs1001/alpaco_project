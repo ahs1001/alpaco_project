{
  "nbformat": 4,
  "nbformat_minor": 0,
  "metadata": {
    "colab": {
      "provenance": [],
      "toc_visible": true
    },
    "kernelspec": {
      "name": "python3",
      "display_name": "Python 3"
    },
    "language_info": {
      "name": "python"
    }
  },
  "cells": [
    {
      "cell_type": "markdown",
      "source": [
        "알파코 said, 객체인식 프로젝트를 위해 아껴두라고 하니까, 이번 이미지 인식은 여기서 돌리지는 말고, 일단 코드 정리만 해두고 나중에 다른 계정으로 옮겨서 제출"
      ],
      "metadata": {
        "id": "TuBvbTunciBa"
      }
    },
    {
      "cell_type": "markdown",
      "source": [
        "## 1. 데이터 크롤링 (리소스 문제로 나눠 크롤링 & 리사이징 후 파일 취합)"
      ],
      "metadata": {
        "id": "ZLpfhDXtOMI7"
      }
    },
    {
      "cell_type": "code",
      "execution_count": null,
      "metadata": {
        "id": "FD2uoN_kOG3A"
      },
      "outputs": [],
      "source": [
        "import os\n",
        "import cv2\n",
        "import numpy as np\n",
        "from matplotlib import pyplot as plt\n",
        "from tqdm import tqdm\n",
        "import pandas as pd\n",
        "import re\n",
        "import pickle\n",
        "from bs4 import BeautifulSoup\n",
        "import time\n",
        "from io import BytesIO\n",
        "import requests\n",
        "from PIL import Image"
      ]
    },
    {
      "cell_type": "code",
      "source": [
        "from sklearn.preprocessing import StandardScaler\n",
        "from sklearn.preprocessing import OneHotEncoder"
      ],
      "metadata": {
        "id": "NUDo8wFf30G4"
      },
      "execution_count": null,
      "outputs": []
    },
    {
      "cell_type": "code",
      "source": [
        "page = 1\n",
        "size_labels = ['medium']\n",
        "size_url = [i.upper() for i in size_labels]\n",
        "period_labels = ['2020', '2010', '2000', '1990', '1980', '1970', '1960', '1950', '1940', '1930', '1920', '1910', '1900']"
      ],
      "metadata": {
        "id": "YMUid6bvOaex"
      },
      "execution_count": null,
      "outputs": []
    },
    {
      "cell_type": "code",
      "source": [
        "# 크롤링 코드\n",
        "te1 = []\n",
        "for period in tqdm(period_labels):\n",
        "    for price_range_start in range(10000, 14000, 2000):\n",
        "        price_range_end = price_range_start + 2000\n",
        "        for page in range(1, 101):\n",
        "            hab_url = f'https://www.artsy.net/collect?major_periods%5B0%5D={period}&page={page}&sizes%5B0%5D=MEDIUM&attribution_class%5B0%5D=unique&additional_gene_ids%5B0%5D=painting&price_range={price_range_start}-{price_range_end}'\n",
        "            if 'page=1' in hab_url:\n",
        "                hab_url = re.sub('page=1&', '', hab_url)\n",
        "            res = requests.get(hab_url)\n",
        "            print(hab_url)\n",
        "            res.encoding = res.apparent_encoding\n",
        "            time.sleep(1)\n",
        "            four = BeautifulSoup(res.content, 'lxml')\n",
        "            artwork_items = four.find_all('div', {'data-test': 'artworkGridItem'})\n",
        "            tri = BeautifulSoup(res.content, 'lxml')\n",
        "            tri_all_a = tri.find_all('a', {'class': 'Pagination__PageLink-sc-1r2jw01-0 btKriA'})\n",
        "            if len(tri_all_a) > 0:\n",
        "                n = tri_all_a[-1].text\n",
        "            else:\n",
        "                break\n",
        "            if page > int(n):\n",
        "                break\n",
        "            for i in artwork_items:\n",
        "                jagpumname = i.i.text\n",
        "                jagga = i.img.get('alt').split(', ')[0]\n",
        "                year = period+'s'\n",
        "                price = i.find('div', {'class': 'Box-sc-15se88d-0 Text-sc-18gcpao-0 eXbAnU bfCidL'}).text[:-1]\n",
        "                img_path = i.img.get('src')\n",
        "                te1.append([jagpumname, jagga, 'medium', year, price, img_path])\n",
        "frame2 = pd.DataFrame(te1)\n",
        "frame2.drop_duplicates(5, inplace=True)\n",
        "frame2.columns = ['title', 'artist', 'size', 'year', 'price', 'imgpath']\n",
        "frame2.reset_index(inplace=True)\n",
        "frame2.drop('index', axis=1, inplace=True)\n",
        "\n",
        "with open('dataframe.pickle', 'wb') as file:\n",
        "    pickle.dump(frame2, file)"
      ],
      "metadata": {
        "id": "D9hbNaRWOip7"
      },
      "execution_count": null,
      "outputs": []
    },
    {
      "cell_type": "markdown",
      "source": [
        "##2. 데이터 EDA & 전처리"
      ],
      "metadata": {
        "id": "hKj7iITgO9kU"
      }
    },
    {
      "cell_type": "markdown",
      "source": [
        "###2-1. 이미지 : 리사이징"
      ],
      "metadata": {
        "id": "UYqkJch-PEaS"
      }
    },
    {
      "cell_type": "code",
      "source": [
        "#url불러와서 리사이즈\n",
        "\n",
        "def resize(im):\n",
        "\n",
        "    res = requests.get(im)\n",
        "    img = Image.open(BytesIO(res.content))\n",
        "    img = np.array(img)\n",
        "\n",
        "    img_size = 224\n",
        "\n",
        "    if img.ndim != 3:  # 흑백 이미지인 경우\n",
        "        img = cv2.cvtColor(img, cv2.COLOR_GRAY2RGB)\n",
        "\n",
        "    if(img.shape[1] > img.shape[0]) :\n",
        "        ratio = img_size/img.shape[1]\n",
        "    else :\n",
        "        ratio = img_size/img.shape[0]\n",
        "\n",
        "    img = cv2.resize(img, dsize=(0, 0), fx=ratio, fy=ratio, interpolation=cv2.INTER_LINEAR)\n",
        "\n",
        "    # 그림 주변에 검은색으로 칠하기\n",
        "    w, h = img.shape[1], img.shape[0]\n",
        "\n",
        "    dw = (img_size-w)/2 # img_size와 w의 차이\n",
        "    dh = (img_size-h)/2 # img_size와 h의 차이\n",
        "\n",
        "    M = np.float32([[1,0,dw], [0,1,dh]])  #(2*3 이차원 행렬)\n",
        "    img_re = cv2.warpAffine(img, M, (224, 224)) #이동변환\n",
        "\n",
        "    return img_re"
      ],
      "metadata": {
        "id": "i6oFnMZXPRi-"
      },
      "execution_count": null,
      "outputs": []
    },
    {
      "cell_type": "markdown",
      "source": [
        "####Resized 파일 취합"
      ],
      "metadata": {
        "id": "PHjuzZyH18IN"
      }
    },
    {
      "cell_type": "code",
      "source": [
        "from google.colab import drive\n",
        "drive.mount('/content/drive')"
      ],
      "metadata": {
        "colab": {
          "base_uri": "https://localhost:8080/"
        },
        "id": "aRNxVxpV191l",
        "outputId": "9e5d861b-c4b6-4a08-e95c-e97de656a806"
      },
      "execution_count": null,
      "outputs": [
        {
          "output_type": "stream",
          "name": "stdout",
          "text": [
            "Mounted at /content/drive\n"
          ]
        }
      ]
    },
    {
      "cell_type": "code",
      "source": [
        "file_path_1 = '/content/drive/MyDrive/resized_6000to10000.pkl'\n",
        "df_1 = pd.read_pickle(file_path_1)"
      ],
      "metadata": {
        "id": "l-ZF35K_2NHa"
      },
      "execution_count": null,
      "outputs": []
    },
    {
      "cell_type": "code",
      "source": [
        "df_1.info()   # 1.6만 건"
      ],
      "metadata": {
        "colab": {
          "base_uri": "https://localhost:8080/"
        },
        "id": "xvGlfahW3U12",
        "outputId": "a461b494-3bb1-43e4-f3c4-a3ddd5616584"
      },
      "execution_count": null,
      "outputs": [
        {
          "output_type": "stream",
          "name": "stdout",
          "text": [
            "<class 'pandas.core.frame.DataFrame'>\n",
            "RangeIndex: 16293 entries, 0 to 16292\n",
            "Data columns (total 7 columns):\n",
            " #   Column   Non-Null Count  Dtype \n",
            "---  ------   --------------  ----- \n",
            " 0   title    16293 non-null  object\n",
            " 1   artist   16293 non-null  object\n",
            " 2   size     16293 non-null  object\n",
            " 3   year     16293 non-null  object\n",
            " 4   price    16293 non-null  object\n",
            " 5   imgpath  16293 non-null  object\n",
            " 6   reimg    16293 non-null  object\n",
            "dtypes: object(7)\n",
            "memory usage: 891.1+ KB\n"
          ]
        }
      ]
    },
    {
      "cell_type": "code",
      "source": [
        "file_path_2 = '/content/drive/MyDrive/resized_10000to14000.pkl'\n",
        "df_2 = pd.read_pickle(file_path_2)"
      ],
      "metadata": {
        "id": "qVfPt1P52Pr9"
      },
      "execution_count": null,
      "outputs": []
    },
    {
      "cell_type": "code",
      "source": [
        "df_2.info() # 1.2만 건"
      ],
      "metadata": {
        "colab": {
          "base_uri": "https://localhost:8080/"
        },
        "id": "_9F0oMRB3YTe",
        "outputId": "247aa483-15a5-4f76-bdeb-0faa9c0a534a"
      },
      "execution_count": null,
      "outputs": [
        {
          "output_type": "stream",
          "name": "stdout",
          "text": [
            "<class 'pandas.core.frame.DataFrame'>\n",
            "RangeIndex: 11985 entries, 0 to 11984\n",
            "Data columns (total 7 columns):\n",
            " #   Column   Non-Null Count  Dtype \n",
            "---  ------   --------------  ----- \n",
            " 0   title    11985 non-null  object\n",
            " 1   artist   11985 non-null  object\n",
            " 2   size     11985 non-null  object\n",
            " 3   year     11985 non-null  object\n",
            " 4   price    11985 non-null  object\n",
            " 5   imgpath  11985 non-null  object\n",
            " 6   resize   11985 non-null  object\n",
            "dtypes: object(7)\n",
            "memory usage: 655.6+ KB\n"
          ]
        }
      ]
    },
    {
      "cell_type": "code",
      "source": [
        "# Concatenate the DataFrames vertically\n",
        "concatenated_df = pd.concat([df_1, df_2], ignore_index=True)"
      ],
      "metadata": {
        "id": "byjk3gRt2VPB"
      },
      "execution_count": null,
      "outputs": []
    },
    {
      "cell_type": "code",
      "source": [
        "output_file_path = '/content/drive/MyDrive/resized_6kto14k.pickle'\n",
        "concatenated_df.to_pickle(output_file_path)"
      ],
      "metadata": {
        "id": "THbzu9LI2XXr"
      },
      "execution_count": null,
      "outputs": []
    },
    {
      "cell_type": "code",
      "source": [
        "df = pd.read_pickle(output_file_path)"
      ],
      "metadata": {
        "id": "xOH7SxWk29z2"
      },
      "execution_count": null,
      "outputs": []
    },
    {
      "cell_type": "code",
      "source": [
        "df.info() # 2.8만 건"
      ],
      "metadata": {
        "colab": {
          "base_uri": "https://localhost:8080/"
        },
        "id": "_YVlLQzY3QXz",
        "outputId": "661c08ff-c1b3-4f1c-dd11-f85de7001f1a"
      },
      "execution_count": null,
      "outputs": [
        {
          "output_type": "stream",
          "name": "stdout",
          "text": [
            "<class 'pandas.core.frame.DataFrame'>\n",
            "RangeIndex: 28278 entries, 0 to 28277\n",
            "Data columns (total 8 columns):\n",
            " #   Column   Non-Null Count  Dtype \n",
            "---  ------   --------------  ----- \n",
            " 0   title    28278 non-null  object\n",
            " 1   artist   28278 non-null  object\n",
            " 2   size     28278 non-null  object\n",
            " 3   year     28278 non-null  object\n",
            " 4   price    28278 non-null  object\n",
            " 5   imgpath  28278 non-null  object\n",
            " 6   reimg    16293 non-null  object\n",
            " 7   resize   11985 non-null  object\n",
            "dtypes: object(8)\n",
            "memory usage: 1.7+ MB\n"
          ]
        }
      ]
    },
    {
      "cell_type": "code",
      "source": [
        "# 소액 작품 추가 취합 (용량, 리소스 등 문제로 다른 Colab에서 돌림)\n",
        "file_path_3 = '/content/drive/MyDrive/priced_100to6000.pkl'\n",
        "df_3 = pd.read_pickle(file_path_3)"
      ],
      "metadata": {
        "id": "tyEwYADVoIEX"
      },
      "execution_count": null,
      "outputs": []
    },
    {
      "cell_type": "code",
      "source": [
        "# Concatenate the DataFrames vertically\n",
        "concatenated_df = pd.concat([df, df_3], ignore_index=True)"
      ],
      "metadata": {
        "id": "e3WqoOKFvJGg"
      },
      "execution_count": null,
      "outputs": []
    },
    {
      "cell_type": "code",
      "source": [
        "output_file_path = '/content/drive/MyDrive/resized_6kto14k.pickle'\n",
        "concatenated_df.to_pickle(output_file_path)"
      ],
      "metadata": {
        "id": "AvG7MLKMvQdR"
      },
      "execution_count": null,
      "outputs": []
    },
    {
      "cell_type": "code",
      "source": [
        "df = pd.read_pickle(output_file_path)"
      ],
      "metadata": {
        "id": "r4eLkARFvTuP"
      },
      "execution_count": null,
      "outputs": []
    },
    {
      "cell_type": "code",
      "source": [
        "df.info() # 4.9만 건 (price = $100 - 14k, \"others\" 삭제)"
      ],
      "metadata": {
        "id": "VYuKuYvvvUkT"
      },
      "execution_count": null,
      "outputs": []
    },
    {
      "cell_type": "markdown",
      "source": [
        "###2-2. 가격 :"
      ],
      "metadata": {
        "id": "hdRBtDgQPKeD"
      }
    },
    {
      "cell_type": "code",
      "source": [
        "# Extract numeric values and units into new columns 가격 '단위'와 '금액' 분리\n",
        "df[['unit', 'price_value']] = df['price'].str.extract(r'([^\\d,.]+)?([0-9,.]*)')\n",
        "\n",
        "# Remove commas from the 'price_value' column\n",
        "df['price_value'] = df['price_value'].str.replace(',', '')\n",
        "\n",
        "# Convert 'price_value' to numeric, treating empty strings as NaN\n",
        "df['price_value'] = pd.to_numeric(df['price_value'], errors='coerce')"
      ],
      "metadata": {
        "id": "MIm00dHaP7KQ"
      },
      "execution_count": null,
      "outputs": []
    },
    {
      "cell_type": "code",
      "source": [
        "# 통화 단위(unit) EDA\n",
        "unique_units = df['unit'].unique()\n",
        "print(unique_units)"
      ],
      "metadata": {
        "id": "pDGAX0PEYrjG",
        "colab": {
          "base_uri": "https://localhost:8080/"
        },
        "outputId": "6ce9e787-2a12-41dc-c408-66304e4fa93e"
      },
      "execution_count": null,
      "outputs": [
        {
          "output_type": "stream",
          "name": "stdout",
          "text": [
            "['US$' '£' '€' 'CN¥' 'AU$' 'Price on request' 'ZAR R' 'C$' 'HK$' 'S$'\n",
            " 'JPY ¥' 'NT$' 'INR ₹' 'DKK' 'Sold' 'On loan' '\\xa0' 'On hold' 'CHF'\n",
            " 'BRL R$' 'COP$' 'KRW ₩' 'Permanent collection']\n"
          ]
        }
      ]
    },
    {
      "cell_type": "code",
      "source": [
        "unit_counts = df['unit'].value_counts()\n",
        "print(unit_counts)"
      ],
      "metadata": {
        "colab": {
          "base_uri": "https://localhost:8080/"
        },
        "id": "6s-9Wa444A9g",
        "outputId": "570731a6-ed10-4807-a054-cf07e63a319c"
      },
      "execution_count": null,
      "outputs": [
        {
          "output_type": "stream",
          "name": "stdout",
          "text": [
            "US$                     14107\n",
            "Price on request         5540\n",
            "€                        3648\n",
            "Sold                     2269\n",
            "£                        1644\n",
            "                          656\n",
            "C$                        102\n",
            "AU$                        56\n",
            "HK$                        44\n",
            "KRW ₩                      42\n",
            "On loan                    24\n",
            "On hold                    23\n",
            "INR ₹                      23\n",
            "CHF                        22\n",
            "BRL R$                     17\n",
            "NT$                        14\n",
            "S$                         11\n",
            "CN¥                        10\n",
            "JPY ¥                       8\n",
            "COP$                        7\n",
            "ZAR R                       6\n",
            "DKK                         4\n",
            "Permanent collection        1\n",
            "Name: unit, dtype: int64\n"
          ]
        }
      ]
    },
    {
      "cell_type": "markdown",
      "source": [
        "결측치 & 이상치 처리 ($6k-14k 기준: 8,513건, $100-6k 기준: 약 4천 건)\n",
        "* unit: 'Price on request', 'Sold', '\\xa0', 'On hold', 'On loan', 'Permanent collection' => 'Others' 처리 후 삭제"
      ],
      "metadata": {
        "id": "vFSmIFio4G4U"
      }
    },
    {
      "cell_type": "code",
      "source": [
        "rows_empty = df[df['unit'] == '\\xa0']\n",
        "print(\"Rows where 'unit' is empty':\\n\", rows_empty) # 가격 결측치 656 건"
      ],
      "metadata": {
        "id": "ZAMPYvrh4Dd1"
      },
      "execution_count": null,
      "outputs": []
    },
    {
      "cell_type": "code",
      "source": [
        "# Values to be replaced in the 'unit' column\n",
        "values_to_replace = ['Price on request', 'Sold', '\\xa0', 'On hold', 'On loan', 'Permanent collection']\n",
        "\n",
        "# Replace values in the 'unit' column with 'others'\n",
        "df['unit'] = df['unit'].replace(values_to_replace, 'others')"
      ],
      "metadata": {
        "id": "5dIl-_-w4R7_"
      },
      "execution_count": null,
      "outputs": []
    },
    {
      "cell_type": "code",
      "source": [
        "# Filter rows where 'unit' column has the value 'others'\n",
        "rows_others = df[df['unit'] == 'others']\n",
        "print(\"Number of rows where 'unit' is 'others':\", rows_others.shape[0])"
      ],
      "metadata": {
        "colab": {
          "base_uri": "https://localhost:8080/"
        },
        "id": "c29OH_FS4ZAE",
        "outputId": "882d9f71-1b39-4551-d59c-6cbd48b311aa"
      },
      "execution_count": null,
      "outputs": [
        {
          "output_type": "stream",
          "name": "stdout",
          "text": [
            "Number of rows where 'unit' is 'others': 8513\n"
          ]
        }
      ]
    },
    {
      "cell_type": "markdown",
      "source": [
        "*  Under US$, Under £, Under € 1,000 -> 편의상 1000로 처리"
      ],
      "metadata": {
        "id": "todwQMRivfxw"
      }
    },
    {
      "cell_type": "code",
      "source": [
        "filtered_unit = df[df['unit'].isin(['Under US$', 'Under £', 'Under €'])]\n",
        "print(filtered_unit[['price', 'unit', 'price_value']])"
      ],
      "metadata": {
        "id": "mgzQrOgDvpUY"
      },
      "execution_count": null,
      "outputs": []
    },
    {
      "cell_type": "code",
      "source": [
        "replace_dict = {'Under US$': 'US$', 'Under £': '£', 'Under €': '€'}\n",
        "df['unit'] = df['unit'].replace(replace_dict)"
      ],
      "metadata": {
        "id": "WLisPSR7vs3h"
      },
      "execution_count": null,
      "outputs": []
    },
    {
      "cell_type": "markdown",
      "source": [
        "####US$ 기준으로 환전"
      ],
      "metadata": {
        "id": "YWXF_igk4rjm"
      }
    },
    {
      "cell_type": "code",
      "source": [
        "# 통화 별, US$에 곱해줘야 할 적용 환율 => 이제 가격은 'price_usd' 컬럼만 보면 됩니다\n",
        "# € 유로 * 1.09\n",
        "# £ 영국 파운드 * 1.27\n",
        "# AU$ 호주 달러 * 0.66\n",
        "# CHF 스위스 프랑 * 1.15\n",
        "# C$ 캐나다 달러 * 0.74\n",
        "# S$ 싱가폴 달러 * 0.75\n",
        "# KRW ₩ 한국 원  * 0.00075\n",
        "# HK$ 홍콩 달러 * 0.13\n",
        "# INR ₹ 인도 루피 * 0.012\n",
        "# CN¥ 중국 위안 * 0.14\n",
        "# NT$ 대만 달러 * 0.032\n",
        "# COP$ 콜롬비아 페소 * 0.00026\n",
        "# DKK 덴마크 크로네 * 0.15\n",
        "# ZAR R 남아공 랜드 * 0.053\n",
        "# BRL R$ 브라질 헤알 * 0.20\n",
        "# JPY ¥ 일본 엔 * 0.0068"
      ],
      "metadata": {
        "id": "qlYJ1BR544cS"
      },
      "execution_count": null,
      "outputs": []
    },
    {
      "cell_type": "code",
      "source": [
        "# Convert 'price_value' to numeric, treating non-convertible values as NaN\n",
        "df['price_usd'] = pd.to_numeric(df['price_value'], errors='coerce')\n",
        "\n",
        "# Fill NaN values with a default value (e.g., 0)\n",
        "df['price_usd'].fillna(0, inplace=True)\n",
        "\n",
        "# Apply conversion rates based on the unit\n",
        "df.loc[df['unit'] == '€', 'price_usd'] *= 1.09\n",
        "df['price_usd'] = df['price_usd'].round().astype(int)\n",
        "df.loc[df['unit'] == '£', 'price_usd'] *= 1.27\n",
        "df.loc[df['unit'] == 'AU$', 'price_usd'] *= 0.66\n",
        "df.loc[df['unit'] == 'CHF', 'price_usd'] *= 1.15\n",
        "df.loc[df['unit'] == 'C$', 'price_usd'] *= 0.74\n",
        "df.loc[df['unit'] == 'S$', 'price_usd'] *= 0.75\n",
        "df.loc[df['unit'] == 'KRW ₩', 'price_usd'] *= 0.00075\n",
        "df.loc[df['unit'] == 'HK$', 'price_usd'] *= 0.13\n",
        "df.loc[df['unit'] == 'INR ₹', 'price_usd'] *= 0.012\n",
        "df.loc[df['unit'] == 'CN¥', 'price_usd'] *= 0.14\n",
        "df.loc[df['unit'] == 'NT$', 'price_usd'] *= 0.032\n",
        "df.loc[df['unit'] == 'COP$', 'price_usd'] *= 0.00026\n",
        "df.loc[df['unit'] == 'DKK', 'price_usd'] *= 0.15\n",
        "df.loc[df['unit'] == 'ZAR R', 'price_usd'] *= 0.053\n",
        "df.loc[df['unit'] == 'BRL R$', 'price_usd'] *= 0.20\n",
        "df.loc[df['unit'] == 'JPY ¥', 'price_usd'] *= 0.0068\n",
        "\n",
        "# Round 'price_usd' and convert it to integers\n",
        "df['price_usd'] = df['price_usd'].round().astype(int)"
      ],
      "metadata": {
        "id": "CxIYwtLw46mO"
      },
      "execution_count": null,
      "outputs": []
    },
    {
      "cell_type": "code",
      "source": [
        "cols_to_check = ['price', 'unit', 'price_usd']\n",
        "print(df[cols_to_check].head(30))"
      ],
      "metadata": {
        "colab": {
          "base_uri": "https://localhost:8080/"
        },
        "id": "EDeaTh6X48uA",
        "outputId": "289e051d-2087-4b3d-b59e-26132b762714"
      },
      "execution_count": null,
      "outputs": [
        {
          "output_type": "stream",
          "name": "stdout",
          "text": [
            "                price unit  price_usd\n",
            "0            US$7,000  US$       7000\n",
            "1            US$7,000  US$       7000\n",
            "2              £6,000    £       7620\n",
            "3            US$6,800  US$       6800\n",
            "4              £6,000    £       7620\n",
            "5              £6,000    £       7620\n",
            "6            US$6,800  US$       6800\n",
            "7   US$4,500–US$7,000  US$       4500\n",
            "8            US$7,000  US$       7000\n",
            "9            US$7,500  US$       7500\n",
            "10             £6,000    £       7620\n",
            "11           US$7,000  US$       7000\n",
            "12           US$7,000  US$       7000\n",
            "13           US$6,000  US$       6000\n",
            "14           US$8,000  US$       8000\n",
            "15           US$7,000  US$       7000\n",
            "16             £6,000    £       7620\n",
            "17             £6,000    £       7620\n",
            "18           US$8,000  US$       8000\n",
            "19           US$8,000  US$       8000\n",
            "20             €6,900    €       7521\n",
            "21             £6,000    £       7620\n",
            "22             €5,950    €       6486\n",
            "23           US$7,100  US$       7100\n",
            "24           US$7,000  US$       7000\n",
            "25           US$6,500  US$       6500\n",
            "26             €6,000    €       6540\n",
            "27             £6,000    £       7620\n",
            "28           US$6,500  US$       6500\n",
            "29           US$6,500  US$       6500\n"
          ]
        }
      ]
    },
    {
      "cell_type": "code",
      "source": [
        "# Remove rows where 'unit' is 'others'\n",
        "df_price = df[df['unit'] != 'others']\n",
        "\n",
        "# Save the DataFrame as a new pickle file\n",
        "output_price_file_path = '/content/drive/MyDrive/df_price.pickle'\n",
        "df_price.to_pickle(output_price_file_path)"
      ],
      "metadata": {
        "id": "QAwRclpb4xF4"
      },
      "execution_count": null,
      "outputs": []
    },
    {
      "cell_type": "code",
      "source": [
        "df_price = pd.read_pickle(output_price_file_path)"
      ],
      "metadata": {
        "id": "R91T92_W9EOc"
      },
      "execution_count": null,
      "outputs": []
    },
    {
      "cell_type": "code",
      "source": [
        "df_price.info()"
      ],
      "metadata": {
        "colab": {
          "base_uri": "https://localhost:8080/"
        },
        "id": "6lJTmg5o9cay",
        "outputId": "0c086841-3815-4e06-ae7f-d9ed2c79e408"
      },
      "execution_count": null,
      "outputs": [
        {
          "output_type": "stream",
          "name": "stdout",
          "text": [
            "<class 'pandas.core.frame.DataFrame'>\n",
            "Int64Index: 19765 entries, 0 to 28276\n",
            "Data columns (total 11 columns):\n",
            " #   Column       Non-Null Count  Dtype  \n",
            "---  ------       --------------  -----  \n",
            " 0   title        19765 non-null  object \n",
            " 1   artist       19765 non-null  object \n",
            " 2   size         19765 non-null  object \n",
            " 3   year         19765 non-null  object \n",
            " 4   price        19765 non-null  object \n",
            " 5   imgpath      19765 non-null  object \n",
            " 6   reimg        13465 non-null  object \n",
            " 7   resize       6300 non-null   object \n",
            " 8   unit         19765 non-null  object \n",
            " 9   price_value  19765 non-null  float64\n",
            " 10  price_usd    19765 non-null  int64  \n",
            "dtypes: float64(1), int64(1), object(9)\n",
            "memory usage: 1.8+ MB\n"
          ]
        }
      ]
    },
    {
      "cell_type": "code",
      "source": [
        "y = df['price_usd'].astype(np.float32)\n",
        "y = np.array(y)\n",
        "y = y.reshape(-1, 1)\n",
        "\n",
        "scaler = StandardScaler()\n",
        "price_scaler = scaler.fit_transform(y)"
      ],
      "metadata": {
        "id": "d13zTXCy2gF-"
      },
      "execution_count": null,
      "outputs": []
    },
    {
      "cell_type": "markdown",
      "source": [
        "###2-3. 기간 :"
      ],
      "metadata": {
        "id": "dfD63x_gP9JR"
      }
    },
    {
      "cell_type": "code",
      "source": [
        "# Count occurrences of unique values in the 'year' column -> 1910s 데이터 크롤링 누락\n",
        "year_counts = df_price['year'].value_counts()\n",
        "print(\"Counts by year:\\n\", year_counts)"
      ],
      "metadata": {
        "id": "CgEHyYaJQFtD",
        "colab": {
          "base_uri": "https://localhost:8080/"
        },
        "outputId": "6f468d99-267e-4c3e-b17b-1dd2ed8840e2"
      },
      "execution_count": null,
      "outputs": [
        {
          "output_type": "stream",
          "name": "stdout",
          "text": [
            "Counts by year:\n",
            " 2020s    8714\n",
            "2010s    6342\n",
            "2000s    1821\n",
            "1990s     711\n",
            "1980s     529\n",
            "1960s     400\n",
            "1970s     388\n",
            "1950s     311\n",
            "1940s     165\n",
            "1930s     165\n",
            "1920s     113\n",
            "1900s     106\n",
            "Name: year, dtype: int64\n"
          ]
        }
      ]
    },
    {
      "cell_type": "code",
      "source": [
        "# Plot the histogram for the DataFrame\n",
        "import matplotlib.pyplot as plt\n",
        "plt.hist(df_price['year'], bins=13, edgecolor='black')\n",
        "plt.title('Distribution of Years')\n",
        "plt.xlabel('Year')\n",
        "plt.ylabel('Frequency')\n",
        "plt.show()"
      ],
      "metadata": {
        "colab": {
          "base_uri": "https://localhost:8080/",
          "height": 472
        },
        "id": "vdIqwkDq5t74",
        "outputId": "3673da07-030c-4e1d-dd5b-6ca1668a1e17"
      },
      "execution_count": null,
      "outputs": [
        {
          "output_type": "display_data",
          "data": {
            "text/plain": [
              "<Figure size 640x480 with 1 Axes>"
            ],
            "image/png": "[encoded data removed]"
          },
          "metadata": {}
        }
      ]
    },
    {
      "cell_type": "code",
      "source": [
        "replace_dict = {\"1940s\": \"1950s 이전\", \"1930s\": \"1950s 이전\", \"1920s\": \"1950s 이전\", \"1910s\": \"1950s 이전\", \"1900s\": \"1950s 이전\", 'Before 1950s 이전': \"1950s 이전\"}\n",
        "\n",
        "df_price['year'] = df_price['year'].replace(replace_dict)"
      ],
      "metadata": {
        "id": "W4hjkR-N4ESA"
      },
      "execution_count": null,
      "outputs": []
    },
    {
      "cell_type": "code",
      "source": [
        "year_encoder = OneHotEncoder()\n",
        "\n",
        "year_d = year_encoder.fit_transform(df_price[['year']])"
      ],
      "metadata": {
        "id": "p9JExvA_7lX1"
      },
      "execution_count": null,
      "outputs": []
    },
    {
      "cell_type": "markdown",
      "source": [
        "###2-4. 작가 :"
      ],
      "metadata": {
        "id": "ALA7TT1RQF5Q"
      }
    },
    {
      "cell_type": "code",
      "source": [
        "unique_artists_count = df_price['artist'].nunique()\n",
        "print(\"Number of unique artists:\", unique_artists_count)\n",
        "\n",
        "# Count occurrences of unique values in the 'artist' column\n",
        "artist_counts = df_price['artist'].value_counts()\n",
        "print(\"Counts by artist:\\n\", artist_counts)"
      ],
      "metadata": {
        "id": "wUZq26cIQKN3",
        "colab": {
          "base_uri": "https://localhost:8080/"
        },
        "outputId": "d042b1ba-4322-45c9-daec-b3b053b1051c"
      },
      "execution_count": null,
      "outputs": [
        {
          "output_type": "stream",
          "name": "stdout",
          "text": [
            "Number of unique artists: 6464\n",
            "Counts by artist:\n",
            " Anand Manchiraju      109\n",
            "Hunt Slonem            89\n",
            "Simon Bull             65\n",
            "J. Steven Manolis      65\n",
            "Soile Yli-Mäyry        45\n",
            "                     ... \n",
            "Arthur Sarnoff          1\n",
            "Javier Vilato           1\n",
            "Robert W. Douglass      1\n",
            "Paul Burckhardt         1\n",
            "Thomas Baker            1\n",
            "Name: artist, Length: 6464, dtype: int64\n"
          ]
        }
      ]
    },
    {
      "cell_type": "code",
      "source": [
        "# Filter for artists with counts greater than 30\n",
        "filtered_artists = artist_counts[artist_counts > 25]\n",
        "print(\"Top 20 artists or those with counts > 25:\\n\", filtered_artists.head(50))"
      ],
      "metadata": {
        "colab": {
          "base_uri": "https://localhost:8080/"
        },
        "id": "pAiT53j16EKG",
        "outputId": "c5ecddfe-696b-4956-dcd1-e3196f202dce"
      },
      "execution_count": null,
      "outputs": [
        {
          "output_type": "stream",
          "name": "stdout",
          "text": [
            "Top 20 artists or those with counts > 25:\n",
            " Anand Manchiraju             109\n",
            "Hunt Slonem                   89\n",
            "Simon Bull                    65\n",
            "J. Steven Manolis             65\n",
            "Soile Yli-Mäyry               45\n",
            "Carson Ferri-Grant            45\n",
            "Jimi Gleason                  44\n",
            "Sori Choi                     44\n",
            "Carlos Gamez de Francisco     42\n",
            "Clive McCartney               41\n",
            "Rainer Gross                  38\n",
            "Dimitri Likissas              37\n",
            "Antonio Feltrinelli           35\n",
            "Robert Standish               35\n",
            "Howard Danelowitz             34\n",
            "Bekah Bull                    34\n",
            "Thierry Lefort                33\n",
            "Adam Straus                   32\n",
            "Kurz                          32\n",
            "Kim Frohsin                   31\n",
            "Poul Webb                     31\n",
            "Alain Clément                 31\n",
            "Derek Balmer                  29\n",
            "John Virtue                   29\n",
            "Denis Bowen                   29\n",
            "Susannah Phillips             29\n",
            "Ellen Liman                   28\n",
            "Beatrice Mandelman            28\n",
            "John Zinsser                  28\n",
            "America Martin                28\n",
            "Nicholas Verrall              28\n",
            "Rolf Rose                     27\n",
            "David Shrigley                27\n",
            "Max Liu (劉其偉)                 27\n",
            "Mark Sheinkman                27\n",
            "Name: artist, dtype: int64\n"
          ]
        }
      ]
    },
    {
      "cell_type": "code",
      "source": [
        "artist_encoder = OneHotEncoder()\n",
        "\n",
        "artist_d = artist_encoder.fit_transform(df_price[['year']])"
      ],
      "metadata": {
        "id": "dNfRyIVX8C5f"
      },
      "execution_count": null,
      "outputs": []
    },
    {
      "cell_type": "code",
      "source": [
        "from scipy.sparse import hstack\n",
        "\n",
        "meta_x = hstack((artist_d, year_d))\n",
        "\n",
        "x_tr, x_val, y_tr, y_val = train_test_split(meta_x, y, random_state = 1001, test_size = 0.2)"
      ],
      "metadata": {
        "id": "Oqrw7BZ9gaa5"
      },
      "execution_count": null,
      "outputs": []
    },
    {
      "cell_type": "markdown",
      "source": [
        "##3. 모델링"
      ],
      "metadata": {
        "id": "a3yHo_uiQH7B"
      }
    },
    {
      "cell_type": "code",
      "source": [
        "import tensorflow as tf\n",
        "from tensorflow.keras.preprocessing.image import ImageDataGenerator\n",
        "from sklearn.metrics import r2_score\n",
        "\n",
        "dir(tf.keras.applications)\n",
        "\n",
        "from tensorflow.keras.applications.resnet50 import ResNet50\n",
        "from tensorflow.keras.applications import InceptionV3\n",
        "from tensorflow.keras.applications import vgg19\n",
        "\n",
        "from tensorflow.keras import layers, models\n",
        "from tensorflow.keras.layers import Dense, Flatten, MaxPooling2D, Concatenate\n",
        "from tensorflow.keras import Input\n",
        "from tensorflow.keras.layers import Dropout, BatchNormalization"
      ],
      "metadata": {
        "id": "goJrZVWnQJ5O"
      },
      "execution_count": null,
      "outputs": []
    },
    {
      "cell_type": "code",
      "source": [
        "resnet = ResNet50(include_top = False, input_shape = (224,224,3), weights = 'imagenet')\n",
        "inception = InceptionV3(include_top = False, input_shape = (224,224,3), weights = 'imagenet')\n",
        "vgg = vgg19.VGG19(include_top = False, input_shape = (224,224,3), weights = 'imagenet')"
      ],
      "metadata": {
        "id": "i-R6L91DvzFL"
      },
      "execution_count": null,
      "outputs": []
    },
    {
      "cell_type": "code",
      "source": [
        "resnet.trainable = False\n",
        "inception.trainable = False\n",
        "vgg.trainable = False"
      ],
      "metadata": {
        "id": "qCFOEvImvzfi"
      },
      "execution_count": null,
      "outputs": []
    },
    {
      "cell_type": "code",
      "source": [
        "resnet.output_shape, inception.output_shape, vgg.output_shape"
      ],
      "metadata": {
        "id": "qHDp7Z9ov6gX"
      },
      "execution_count": null,
      "outputs": []
    },
    {
      "cell_type": "code",
      "source": [
        "with open('data_cnn.pickle', 'rb') as file:\n",
        "    data_cnn = pickle.load(file)\n",
        "data_cnn"
      ],
      "metadata": {
        "id": "2-1i6adKwImF"
      },
      "execution_count": null,
      "outputs": []
    },
    {
      "cell_type": "code",
      "source": [
        "image_df = data_cnn[['resize', 'price_usd']]\n",
        "image_df"
      ],
      "metadata": {
        "id": "46PbHqHiwV_n"
      },
      "execution_count": null,
      "outputs": []
    },
    {
      "cell_type": "code",
      "source": [
        "# 'price_usd' 열에 대해서 Z-score 계산\n",
        "z_scores = zscore(image_df['price_usd'])\n",
        "\n",
        "# Z-score가 특정 임계값 이상인 데이터 포인트 확인\n",
        "threshold = 1  # 예시로 임계값을 3으로 설정\n",
        "outliers_indices = (z_scores < -threshold) | (z_scores > threshold)\n",
        "\n",
        "outliers_indices.sum()"
      ],
      "metadata": {
        "id": "7A7BTTp5w-Ff"
      },
      "execution_count": null,
      "outputs": []
    },
    {
      "cell_type": "code",
      "source": [
        "image_df = image_df[~outliers_indices]"
      ],
      "metadata": {
        "id": "CNu9h45Rw-mM"
      },
      "execution_count": null,
      "outputs": []
    },
    {
      "cell_type": "code",
      "source": [
        "x = np.stack(image_df['resize'].values)\n",
        "y = image_df['price_usd'].astype(np.float32)\n",
        "y = y.values.reshape(-1, 1)\n",
        "scaler = StandardScaler()\n",
        "y_norm = scaler.fit_transform(y) # price scale\n",
        "joblib.dump(scaler, 'price_scaler.pkl') # scaler 저장\n",
        "x_train, x_val, y_train, y_val = train_test_split(x, y_norm, random_state = 1001, test_size = 0.2)"
      ],
      "metadata": {
        "id": "ztbRrSCcvuXp"
      },
      "execution_count": null,
      "outputs": []
    },
    {
      "cell_type": "markdown",
      "source": [
        "###3-1. ResNet"
      ],
      "metadata": {
        "id": "5JDqkvC9xTax"
      }
    },
    {
      "cell_type": "code",
      "source": [
        "inputs = Input(shape = (224,224,3))\n",
        "x = resnet(inputs, training = False)\n",
        "x = Flatten(input_shape = resnet.output_shape[1:])(x)\n",
        "x = Dense(64, activation = 'relu')(x)\n",
        "x = Dropout(0.5)(x)\n",
        "outputs =  Dense(1, activation = 'linear')(x)\n",
        "\n",
        "resnet_model = tf.keras.Model(inputs, outputs)"
      ],
      "metadata": {
        "id": "Rwkb9pvKv_n9"
      },
      "execution_count": null,
      "outputs": []
    },
    {
      "cell_type": "code",
      "source": [
        "resnet_model.summary()"
      ],
      "metadata": {
        "id": "D_NM61vVxW2R"
      },
      "execution_count": null,
      "outputs": []
    },
    {
      "cell_type": "code",
      "source": [
        "from tensorflow.keras.callbacks import EarlyStopping\n",
        "\n",
        "early_stopping = EarlyStopping(monitor='val_loss', patience=2, restore_best_weights=True)"
      ],
      "metadata": {
        "id": "u2of8ATvxZel"
      },
      "execution_count": null,
      "outputs": []
    },
    {
      "cell_type": "code",
      "source": [
        "optimizer = tf.keras.optimizers.Adam(learning_rate=0.01)\n",
        "resnet_model.compile(optimizer = optimizer, loss = 'mse', metrics = ['RootMeanSquaredError', 'R2Score'])"
      ],
      "metadata": {
        "id": "Dl7zqwYRxg3L"
      },
      "execution_count": null,
      "outputs": []
    },
    {
      "cell_type": "code",
      "source": [
        "resnet_model.fit(x_train, y_train, epochs=10, validation_data=(x_val, y_val), callbacks = [early_stopping])"
      ],
      "metadata": {
        "id": "bQMm6W7uxhTf"
      },
      "execution_count": null,
      "outputs": []
    },
    {
      "cell_type": "markdown",
      "source": [
        "###3-2. Inception"
      ],
      "metadata": {
        "id": "srsU4y7Mxpjy"
      }
    },
    {
      "cell_type": "code",
      "source": [
        "inputs = Input(shape = (224,224,3))\n",
        "x = inception(inputs, training = False)\n",
        "x = Flatten(input_shape = resnet.output_shape[1:])(x)\n",
        "x = Dense(64, activation = 'relu')(x)\n",
        "x = Dropout(0.5)(x)\n",
        "outputs =  Dense(1, activation = 'linear')(x)\n",
        "\n",
        "inception_model = tf.keras.Model(inputs, outputs)"
      ],
      "metadata": {
        "id": "KBTJpJeKxn-4"
      },
      "execution_count": null,
      "outputs": []
    },
    {
      "cell_type": "code",
      "source": [
        "inception_model.summary()"
      ],
      "metadata": {
        "id": "VTc9wyzWxyuo"
      },
      "execution_count": null,
      "outputs": []
    },
    {
      "cell_type": "code",
      "source": [
        "inception_model.compile(optimizer = 'Adam', loss = 'mse', metrics = ['RootMeanSquaredError', 'R2Score'])"
      ],
      "metadata": {
        "id": "WBIai9Xox0E6"
      },
      "execution_count": null,
      "outputs": []
    },
    {
      "cell_type": "code",
      "source": [
        "inception_model.fit(x_train, y_train, epochs=10, validation_data=(x_val, y_val), callbacks = [early_stopping])"
      ],
      "metadata": {
        "id": "Wt2ttUL3x297"
      },
      "execution_count": null,
      "outputs": []
    },
    {
      "cell_type": "markdown",
      "source": [
        "###3-3. VGG"
      ],
      "metadata": {
        "id": "s8knoCK9yC2U"
      }
    },
    {
      "cell_type": "code",
      "source": [
        "inputs = Input(shape = (224,224,3))\n",
        "x = vgg(inputs, training = False)\n",
        "x = Flatten(input_shape = resnet.output_shape[1:])(x)\n",
        "x = Dense(64, activation = 'relu')(x)\n",
        "x = Dropout(0.5)(x)\n",
        "outputs =  Dense(1, activation = 'linear')(x)\n",
        "\n",
        "vgg_model = tf.keras.Model(inputs, outputs)"
      ],
      "metadata": {
        "id": "ihIU0_kRyEi7"
      },
      "execution_count": null,
      "outputs": []
    },
    {
      "cell_type": "code",
      "source": [
        "vgg_model.summary()"
      ],
      "metadata": {
        "id": "fOdPWM5-yGr6"
      },
      "execution_count": null,
      "outputs": []
    },
    {
      "cell_type": "code",
      "source": [
        "vgg_model.compile(optimizer = 'adam', loss = 'mse', metrics = ['RootMeanSquaredError', 'R2Score'])"
      ],
      "metadata": {
        "id": "RcyTgKnsyKaR"
      },
      "execution_count": null,
      "outputs": []
    },
    {
      "cell_type": "code",
      "source": [
        "vgg_model.fit(x_train, y_train, epochs=10, validation_data=(x_val, y_val), callbacks = [early_stopping])"
      ],
      "metadata": {
        "id": "QFPZ58r3yRSY"
      },
      "execution_count": null,
      "outputs": []
    },
    {
      "cell_type": "code",
      "source": [
        "resnet_model.save('resnet_model.h5')\n",
        "inception_model.save('inception_model.h5')\n",
        "vgg_model.save('vgg_model.h5')"
      ],
      "metadata": {
        "id": "gyxL-99KyWDI"
      },
      "execution_count": null,
      "outputs": []
    },
    {
      "cell_type": "markdown",
      "source": [
        "###3-4. Regression"
      ],
      "metadata": {
        "id": "7a63QJxnyjyl"
      }
    },
    {
      "cell_type": "code",
      "source": [
        "inputs = Input(shape = (20)) # input shape 넣을것\n",
        "x = Dense(16, activation = 'relu')(inputs)\n",
        "outputs = Dense(1, activation = 'linear')(x)\n",
        "\n",
        "reg_model = tf.keras.Model(inputs, outputs)"
      ],
      "metadata": {
        "id": "NltN1cQDyh9C"
      },
      "execution_count": null,
      "outputs": []
    },
    {
      "cell_type": "code",
      "source": [
        "reg_model.compile(optimizer = 'adam', loss = 'rmse', metrics = ['rmse', 'r_square'])"
      ],
      "metadata": {
        "id": "_I9lWfiZyqX1"
      },
      "execution_count": null,
      "outputs": []
    },
    {
      "cell_type": "markdown",
      "source": [
        "###3-5. 융합"
      ],
      "metadata": {
        "id": "J6gA2p3gzF5L"
      }
    },
    {
      "cell_type": "code",
      "source": [
        "with open('meta_x_train_final.pkl', 'rb') as file:\n",
        "    meta_x_train = pickle.load(file)\n",
        "\n",
        "with open('meta_x_val_final.pkl', 'rb') as file:\n",
        "    meta_x_val = pickle.load(file)\n",
        "\n",
        "with open('img_y_train_final.pkl', 'rb') as file:\n",
        "    y_train = pickle.load(file)\n",
        "\n",
        "with open('img_y_val_final.pkl', 'rb') as file:\n",
        "    y_val = pickle.load(file)\n",
        "\n",
        "with open('img_x_train_final.pkl', 'rb') as file:\n",
        "    img_x_train = pickle.load(file)\n",
        "\n",
        "with open('img_x_val_final.pkl', 'rb') as file:\n",
        "    img_x_val = pickle.load(file)"
      ],
      "metadata": {
        "id": "ob2OeCEzzFOS"
      },
      "execution_count": null,
      "outputs": []
    },
    {
      "cell_type": "code",
      "source": [
        "from tensorflow.keras.models import load_model\n",
        "\n",
        "# VGG 모델 로드\n",
        "vgg_model = tf.keras.models.load_model('vgg_model.h5', compile=False)\n",
        "# ResNet 모델 로드\n",
        "resnet_model = tf.keras.models.load_model('resnet_model.h5', compile=False)\n",
        "# Inception 모델 로드\n",
        "inception_model = tf.keras.models.load_model('inception_model.h5', compile=False)\n",
        "# reg_model 모델 로드\n",
        "reg_model = tf.keras.models.load_model('reg_model.h5', compile=False)"
      ],
      "metadata": {
        "id": "rC06c3h0zKCt"
      },
      "execution_count": null,
      "outputs": []
    },
    {
      "cell_type": "code",
      "source": [
        "resnet_model = tf.keras.Model(inputs=resnet_model.inputs, outputs=resnet_model.outputs, name='resnet_model')\n",
        "inception_model = tf.keras.Model(inputs=inception_model.inputs, outputs=inception_model.outputs, name='inception_model')\n",
        "vgg_model = tf.keras.Model(inputs=vgg_model.inputs, outputs=vgg_model.outputs, name='vgg_model')\n",
        "reg_model = tf.keras.Model(inputs=reg_model.inputs, outputs=reg_model.outputs, name='reg_model')"
      ],
      "metadata": {
        "id": "_HET58L1zMKl"
      },
      "execution_count": null,
      "outputs": []
    },
    {
      "cell_type": "code",
      "source": [
        "resnet_model.trainable = False\n",
        "inception_model.trainable = False\n",
        "vgg_model.trainable = False\n",
        "reg_model.trainable = False"
      ],
      "metadata": {
        "id": "4f4iqfuszOh7"
      },
      "execution_count": null,
      "outputs": []
    },
    {
      "cell_type": "code",
      "source": [
        "reg_input = meta_x_train.shape[1]\n",
        "\n",
        "inputs = Input(shape = (224,224,3), name='image_input')\n",
        "reg_input = Input(shape = (reg_input), name='reg_input')\n",
        "x1 = resnet_model(inputs, training=False)\n",
        "x2 = inception_model(inputs, training=False)\n",
        "x3 = vgg_model(inputs, training=False)\n",
        "x4 = reg_model(reg_input, training=False)\n",
        "concat = Concatenate()([x1, x2, x3, x4])\n",
        "outputs = Dense(1, activation, ='linear')(concat)\n",
        "\n",
        "final_model = tf.keras.Model(inputs=[inputs, reg_input], outputs=outputs)"
      ],
      "metadata": {
        "id": "IWG6xw5mzSJX"
      },
      "execution_count": null,
      "outputs": []
    },
    {
      "cell_type": "code",
      "source": [
        "final_model.compile(optimizer = 'adam', loss = 'mse', metrics = ['RootMeanSquaredError', 'R2Score'])"
      ],
      "metadata": {
        "id": "ZhfnTmctzgF2"
      },
      "execution_count": null,
      "outputs": []
    },
    {
      "cell_type": "code",
      "source": [
        "from tensorflow.keras.callbacks import EarlyStopping\n",
        "\n",
        "es = EarlyStopping(monitor='val_loss', patience=2, restore_best_weights=True)"
      ],
      "metadata": {
        "id": "gnJwTaR6zqoV"
      },
      "execution_count": null,
      "outputs": []
    },
    {
      "cell_type": "code",
      "source": [
        "final_model.fit([img_x_train, meta_x_train], y_train, epochs = 100, batch_size = 1000, callbacks = [es], validation_data = ([img_x_val, meta_x_val], y_val))"
      ],
      "metadata": {
        "id": "sQZwqEBtzt6I"
      },
      "execution_count": null,
      "outputs": []
    }
  ]
}